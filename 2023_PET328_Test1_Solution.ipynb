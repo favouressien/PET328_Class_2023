{
 "cells": [
  {
   "cell_type": "code",
   "execution_count": 1,
   "id": "671ee2fc",
   "metadata": {},
   "outputs": [
    {
     "name": "stdout",
     "output_type": "stream",
     "text": [
      "... to the only wise God\n"
     ]
    }
   ],
   "source": [
    "print('... to the only wise God')"
   ]
  },
  {
   "cell_type": "markdown",
   "id": "4bc87cc4",
   "metadata": {},
   "source": [
    "# Question 1"
   ]
  },
  {
   "cell_type": "markdown",
   "id": "cfebafd5",
   "metadata": {},
   "source": [
    "### Input statements"
   ]
  },
  {
   "cell_type": "code",
   "execution_count": 8,
   "id": "7a5d84f6",
   "metadata": {},
   "outputs": [
    {
     "name": "stdout",
     "output_type": "stream",
     "text": [
      "What is the conversion factor?\n",
      "default\n",
      "What is the value of permeability?\n",
      "30\n",
      "What is the value of flow area?\n",
      "2.5\n",
      "What is the value of inlet pressure?\n",
      "4000\n",
      "What is the value of outlet pressure?\n",
      "3500\n",
      "What is the value of fluid viscosity?\n",
      "1\n",
      "What is the value of length of flow interval?\n",
      "4\n",
      "What is the rate economic threshold?\n",
      "50\n"
     ]
    }
   ],
   "source": [
    "# 1 mark for 'input'\n",
    "# 1 mark for 'float'\n",
    "\n",
    "c_f = input(\"What is the conversion factor?\\n\")\n",
    "perm = float(input(\"What is the value of permeability?\\n\"))\n",
    "area = float(input(\"What is the value of flow area?\\n\"))\n",
    "press_in = float(input(\"What is the value of inlet pressure?\\n\"))\n",
    "press_out = float(input(\"What is the value of outlet pressure?\\n\"))\n",
    "visc = float(input(\"What is the value of fluid viscosity?\\n\"))\n",
    "length = float(input(\"What is the value of length of flow interval?\\n\"))\n",
    "threshold = float(input(\"What is the rate economic threshold?\\n\"))       # 1 mark (extra-point question)"
   ]
  },
  {
   "cell_type": "markdown",
   "id": "83eedd1b",
   "metadata": {},
   "source": [
    "### Conditional structure to resolve the conversion factor"
   ]
  },
  {
   "cell_type": "code",
   "execution_count": 9,
   "id": "b45aa167",
   "metadata": {},
   "outputs": [
    {
     "name": "stdout",
     "output_type": "stream",
     "text": [
      "0.001127\n"
     ]
    }
   ],
   "source": [
    "if c_f == \"default\":     # 1 mark\n",
    "    c_f = 0.001127       # 1/2 mark\n",
    "else:\n",
    "    c_f = float(c_f)     # 1/2 mark\n",
    "\n",
    "print(c_f)"
   ]
  },
  {
   "cell_type": "markdown",
   "id": "ec0b6376",
   "metadata": {},
   "source": [
    "### Flowrate computation"
   ]
  },
  {
   "cell_type": "code",
   "execution_count": 10,
   "id": "e9ba7f34",
   "metadata": {},
   "outputs": [],
   "source": [
    "rate = (c_f*perm*area*(press_in - press_out))/(visc*length)   # 1 mark\n",
    "\n",
    "# Round rate to 2 decimal places\n",
    "rate = round(rate, 2)"
   ]
  },
  {
   "cell_type": "markdown",
   "id": "63ca2c0a",
   "metadata": {},
   "source": [
    "### Communicating the output"
   ]
  },
  {
   "cell_type": "code",
   "execution_count": 11,
   "id": "7ed4fc9d",
   "metadata": {},
   "outputs": [
    {
     "name": "stdout",
     "output_type": "stream",
     "text": [
      "The flow rate is  10.57 STB/D\n"
     ]
    }
   ],
   "source": [
    "print(\"The flow rate is \", rate, 'STB/D')      1 mark"
   ]
  },
  {
   "cell_type": "markdown",
   "id": "6231076f",
   "metadata": {},
   "source": [
    "### Communicating the output - extra-point question"
   ]
  },
  {
   "cell_type": "code",
   "execution_count": 12,
   "id": "5c528597",
   "metadata": {},
   "outputs": [
    {
     "name": "stdout",
     "output_type": "stream",
     "text": [
      "Rate below economic threshold\n"
     ]
    }
   ],
   "source": [
    "if rate > threshold:     # 1/2 mark\n",
    "    print(\"Rate above economic threshold\")    # 1/2 mark\n",
    "else:\n",
    "    print(\"Rate below economic threshold\")"
   ]
  },
  {
   "cell_type": "markdown",
   "id": "fc0a6a0c",
   "metadata": {},
   "source": [
    "# Qustion 2"
   ]
  },
  {
   "cell_type": "markdown",
   "id": "b9dd577d",
   "metadata": {},
   "source": [
    "i. The *for* loop in Line 25         **[1 mark]**"
   ]
  },
  {
   "cell_type": "markdown",
   "id": "7518b7f9",
   "metadata": {},
   "source": [
    "ii. The addition of 1 is to ensure Function *range* gives a series of numbers that stops at the intended number of blocks. Function *range*, by default stops one short of the second arguement.      **[1 mark]**"
   ]
  },
  {
   "cell_type": "markdown",
   "id": "7b4fe3e8",
   "metadata": {},
   "source": [
    "iii. The porosity value is requested in the *for* loops because the value varies across the rows and columns. It could be requested outside the loops only if a single porosity value applies to all rows and all columns. **[1 mark]**"
   ]
  },
  {
   "cell_type": "code",
   "execution_count": 1,
   "id": "67143586",
   "metadata": {},
   "outputs": [],
   "source": [
    "# iv.\n",
    "#Initializing 'total_stoiip'\n",
    "total_stoiip = 0       # 1 mark"
   ]
  },
  {
   "cell_type": "code",
   "execution_count": null,
   "id": "5e3b388f",
   "metadata": {},
   "outputs": [],
   "source": []
  }
 ],
 "metadata": {
  "kernelspec": {
   "display_name": "Python 3 (ipykernel)",
   "language": "python",
   "name": "python3"
  },
  "language_info": {
   "codemirror_mode": {
    "name": "ipython",
    "version": 3
   },
   "file_extension": ".py",
   "mimetype": "text/x-python",
   "name": "python",
   "nbconvert_exporter": "python",
   "pygments_lexer": "ipython3",
   "version": "3.9.12"
  }
 },
 "nbformat": 4,
 "nbformat_minor": 5
}
